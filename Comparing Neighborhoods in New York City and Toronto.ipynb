{
 "cells": [
  {
   "cell_type": "markdown",
   "metadata": {},
   "source": [
    "# Comparing Neighborhoods in New York City and Toronto"
   ]
  },
  {
   "cell_type": "markdown",
   "metadata": {},
   "source": [
    "## A. Introduction"
   ]
  },
  {
   "cell_type": "markdown",
   "metadata": {},
   "source": [
    "### A.1. Description & Disucssion of the Background"
   ]
  },
  {
   "cell_type": "markdown",
   "metadata": {},
   "source": [
    "New York City is the most populated city in the United States, comprising of five boroughs. At the heart of New York City sits Manhattan, which is one of the world's major commercial, financial and cultural metropolis. Simultaneously, Toronto, the capital of Ontario, is the largest city in Canada. It is also one of the most diverse and dynamic metropolis among its competitors. \n",
    "  Amazon is planning to open up its new headquarters in either of the respective cities. When deciding on the location of a headquarter, the investors need to consider the quality of each city’s workforce, infrastructure and business friendliness. In addition, they need to consider the social denisty of each city and the potential to drive in more customers to their business. \n",
    "In order to ease the burden of the investors to make a coherent decision, we can create a map and dataframe of each city as well as cluster and compare the two the neighborhoods of the two cities."
   ]
  },
  {
   "cell_type": "markdown",
   "metadata": {},
   "source": [
    "### A.2. Data Description"
   ]
  },
  {
   "cell_type": "markdown",
   "metadata": {},
   "source": [
    "I have used the following datasets for my data analysis:\n",
    "* I have obtained a .json file of with coordinates of all neighborhoods in Manhattan. I cleaned the .json file and structured it into a pandas dataframe. \n",
    "* I have obtained a url to a Wikipedia page containing the neighborhood data of Toronto. I scraped the Wikipedia page and wrangled the data, cleaned it, and then structured it into a pandas dataframe using *pd.read_html*.\n",
    "* I used *Forusquare API* to explore the neighborhoods, segment them and obtain the most common venues in each city.\n",
    "* I used Folium to visualize the map of each city. "
   ]
  },
  {
   "cell_type": "code",
   "execution_count": null,
   "metadata": {},
   "outputs": [],
   "source": []
  }
 ],
 "metadata": {
  "kernelspec": {
   "display_name": "Python",
   "language": "python",
   "name": "conda-env-python-py"
  },
  "language_info": {
   "codemirror_mode": {
    "name": "ipython",
    "version": 3
   },
   "file_extension": ".py",
   "mimetype": "text/x-python",
   "name": "python",
   "nbconvert_exporter": "python",
   "pygments_lexer": "ipython3",
   "version": "3.6.11"
  }
 },
 "nbformat": 4,
 "nbformat_minor": 4
}
